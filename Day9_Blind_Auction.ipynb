{
  "nbformat": 4,
  "nbformat_minor": 0,
  "metadata": {
    "colab": {
      "provenance": [],
      "authorship_tag": "ABX9TyN4lOvTASCzjO9tCwe/ST9U",
      "include_colab_link": true
    },
    "kernelspec": {
      "name": "python3",
      "display_name": "Python 3"
    },
    "language_info": {
      "name": "python"
    }
  },
  "cells": [
    {
      "cell_type": "markdown",
      "metadata": {
        "id": "view-in-github",
        "colab_type": "text"
      },
      "source": [
        "<a href=\"https://colab.research.google.com/github/vivekbharu25/100DaysOfCode_Python/blob/main/Day9_Blind_Auction.ipynb\" target=\"_parent\"><img src=\"https://colab.research.google.com/assets/colab-badge.svg\" alt=\"Open In Colab\"/></a>"
      ]
    },
    {
      "cell_type": "code",
      "execution_count": null,
      "metadata": {
        "id": "8VsDW0hfmtPN"
      },
      "outputs": [],
      "source": [
        "import art\n",
        "print(art.logo)\n",
        "\n",
        "def highest_bidder(bid):\n",
        "    bidder = \"\"\n",
        "    highest = 0\n",
        "    for names in bid:\n",
        "        if bid[names] > highest:\n",
        "            highest = bid[names]\n",
        "            bidder = names\n",
        "\n",
        "    print(f\"The highest bidder is {bidder} with a value of ${highest}.\")\n",
        "\n",
        "bids = {}\n",
        "more_inputs = True\n",
        "# TODO-1: Ask the user for input\n",
        "while more_inputs:\n",
        "    name = input(\"Please enter your name:\\n\")\n",
        "    value = int(input(\"Please Enter your Bid Value: $\"))\n",
        "# TODO-2: Save data into dictionary {name: price}\n",
        "    bids[name]=value\n",
        "# TODO-3: Whether if new bids need to be added\n",
        "    more_bids = input(\"More people to bid, if yes type 'yes'. Otherwise 'no\").lower()\n",
        "    if more_bids == 'no':\n",
        "        print(\"\\n\"*100)\n",
        "        more_inputs = False\n",
        "        highest_bidder(bids)\n",
        "    else:\n",
        "        print(\"\\n\" * 100)\n",
        "        more_inputs = True\n",
        "# TODO-4: Compare bids in dictionary"
      ]
    }
  ]
}