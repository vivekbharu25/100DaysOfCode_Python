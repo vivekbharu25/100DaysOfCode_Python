{
  "nbformat": 4,
  "nbformat_minor": 0,
  "metadata": {
    "colab": {
      "provenance": [],
      "authorship_tag": "ABX9TyNkk7IJjhIjWqtJhWl+OruF",
      "include_colab_link": true
    },
    "kernelspec": {
      "name": "python3",
      "display_name": "Python 3"
    },
    "language_info": {
      "name": "python"
    }
  },
  "cells": [
    {
      "cell_type": "markdown",
      "metadata": {
        "id": "view-in-github",
        "colab_type": "text"
      },
      "source": [
        "<a href=\"https://colab.research.google.com/github/vivekbharu25/100DaysOfCode_Python/blob/main/Day8_Caeser_Cipher.ipynb\" target=\"_parent\"><img src=\"https://colab.research.google.com/assets/colab-badge.svg\" alt=\"Open In Colab\"/></a>"
      ]
    },
    {
      "cell_type": "code",
      "execution_count": null,
      "metadata": {
        "id": "HpUXXz2rTuou"
      },
      "outputs": [],
      "source": [
        "# TODO-1: Import and print the logo from art.py when the program starts.\n",
        "\n",
        "import art\n",
        "\n",
        "print(art.logo)\n",
        "\n",
        "alphabet = ['a', 'b', 'c', 'd', 'e', 'f', 'g', 'h', 'i', 'j', 'k', 'l', 'm', 'n', 'o', 'p', 'q', 'r', 's', 't', 'u', 'v', 'w', 'x', 'y', 'z']\n",
        "\n",
        "def caeser(texta, shifta, direc):\n",
        "    etext = []\n",
        "    if direc == \"decode\":\n",
        "        shifta *= -1\n",
        "    for i in range(len(texta)):\n",
        "        if texta[i] not in alphabet:\n",
        "            etext.append(texta[i])\n",
        "        else:\n",
        "            index_val = alphabet.index(texta[i])\n",
        "            change_num = index_val + shifta\n",
        "            change_num %= len(alphabet)\n",
        "            etext.append(alphabet[change_num])\n",
        "\n",
        "    print(\"\".join(etext))\n",
        "\n",
        "restart = True\n",
        "\n",
        "while restart:\n",
        "    direction = input(\"Type 'encode' to encrypt, type 'decode' to decrypt:\\n\").lower()\n",
        "    text = input(\"Give your Input Text: \\n\").lower()\n",
        "    shift = int(input(\"Shift by how much ? \\n\"))\n",
        "\n",
        "    caeser(text, shift, direction)\n",
        "    restart_input = input(\"Type 'yes' if you want to go again. Otherwise, type 'no'.\\n\").lower()\n",
        "    if restart_input == 'no':\n",
        "        restart = False\n",
        "        print(\"Bye!\")\n",
        "    else:\n",
        "        restart = True"
      ]
    }
  ]
}