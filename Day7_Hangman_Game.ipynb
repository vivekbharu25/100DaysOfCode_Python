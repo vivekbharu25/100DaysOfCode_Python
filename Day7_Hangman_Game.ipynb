{
  "nbformat": 4,
  "nbformat_minor": 0,
  "metadata": {
    "colab": {
      "provenance": [],
      "authorship_tag": "ABX9TyPzurhIq0VQQE+jYl3vegmw",
      "include_colab_link": true
    },
    "kernelspec": {
      "name": "python3",
      "display_name": "Python 3"
    },
    "language_info": {
      "name": "python"
    }
  },
  "cells": [
    {
      "cell_type": "markdown",
      "metadata": {
        "id": "view-in-github",
        "colab_type": "text"
      },
      "source": [
        "<a href=\"https://colab.research.google.com/github/vivekbharu25/100DaysOfCode_Python/blob/main/Day7_Hangman_Game.ipynb\" target=\"_parent\"><img src=\"https://colab.research.google.com/assets/colab-badge.svg\" alt=\"Open In Colab\"/></a>"
      ]
    },
    {
      "cell_type": "code",
      "source": [
        "#import art and word list py file"
      ],
      "metadata": {
        "id": "WbQ3YmLjyD9R"
      },
      "execution_count": 5,
      "outputs": []
    },
    {
      "cell_type": "code",
      "execution_count": 9,
      "metadata": {
        "colab": {
          "base_uri": "https://localhost:8080/"
        },
        "id": "6ZgALZkUu_HC",
        "outputId": "6cbd78f4-1ce0-4291-b5b4-e4101cd56949"
      },
      "outputs": [
        {
          "output_type": "stream",
          "name": "stdout",
          "text": [
            " \n",
            " _                                             \n",
            "| |                                            \n",
            "| |__   __ _ _ __   __ _ _ __ ___   __ _ _ __  \n",
            "| '_ \\ / _` | '_ \\ / _` | '_ ` _ \\ / _` | '_ \\ \n",
            "| | | | (_| | | | | (_| | | | | | | (_| | | | |\n",
            "|_| |_|\\__,_|_| |_|\\__, |_| |_| |_|\\__,_|_| |_|\n",
            "                    __/ |                      \n",
            "                   |___/    \n",
            "The word length is 9\n",
            "_________\n",
            "****************************6/6 LIVES LEFT****************************\n",
            "Guess a letter: i\n",
            "_______i_\n",
            "****************************6/6 LIVES LEFT****************************\n",
            "Guess a letter: e\n",
            "__e____i_\n",
            "****************************6/6 LIVES LEFT****************************\n",
            "Guess a letter: r\n",
            "The letter r, is not there, One Life Fasak!\n",
            "\n",
            "  +---+\n",
            "  |   |\n",
            "  O   |\n",
            "      |\n",
            "      |\n",
            "      |\n",
            "=========\n",
            "\n",
            "__e____i_\n",
            "****************************5/6 LIVES LEFT****************************\n",
            "Guess a letter: n\n",
            "_ne___ni_\n",
            "****************************5/6 LIVES LEFT****************************\n",
            "Guess a letter: o\n",
            "_ne__oni_\n",
            "****************************5/6 LIVES LEFT****************************\n",
            "Guess a letter: a\n",
            "_ne__onia\n",
            "****************************5/6 LIVES LEFT****************************\n",
            "Guess a letter: p\n",
            "pne__onia\n",
            "****************************5/6 LIVES LEFT****************************\n",
            "Guess a letter: u\n",
            "pneu_onia\n",
            "****************************5/6 LIVES LEFT****************************\n",
            "Guess a letter: m\n",
            "pneumonia\n",
            "Sooper ra Bittu!\n",
            "****************************YOU WIN****************************\n"
          ]
        }
      ],
      "source": [
        "import random\n",
        "import hangman_words\n",
        "import hangman_art\n",
        "# TODO-1: - Update the word list to use the 'word_list' from hangman_words.py\n",
        "word_list = hangman_words.word_list\n",
        "stages = hangman_art.stages\n",
        "# TODO-3: - Import the logo from hangman_art.py and print it at the start of the game.\n",
        "print(hangman_art.logo)\n",
        "\n",
        "lives = 6\n",
        "\n",
        "chosen_word = random.choice(word_list)\n",
        "\n",
        "word_length = len(chosen_word)\n",
        "print(f\"The word length is {word_length}\")\n",
        "count = 0\n",
        "display = [\"_\"]*word_length\n",
        "print(\"\".join(display))\n",
        "\n",
        "while lives != 0 :\n",
        "    print(f\"****************************{lives}/6 LIVES LEFT****************************\")\n",
        "    guess = input(\"Guess a letter: \").lower()\n",
        "\n",
        "    # TODO-2: - If guess is not a letter in the chosen_word, Then reduce 'lives' by 1.\n",
        "    #  If lives goes down to 0 then the game should stop and it should print \"You lose.\"\n",
        "    temp_num = 0\n",
        "    for i in range(word_length):\n",
        "\n",
        "        if guess == chosen_word[i]:\n",
        "            if display[i]==\"_\":\n",
        "                display[i] = guess\n",
        "                count+=1\n",
        "            else:\n",
        "                print(f\"The Letter {guess}, is already present\")\n",
        "        else:\n",
        "            temp_num +=1\n",
        "\n",
        "    if temp_num == word_length:\n",
        "        lives -=1\n",
        "        print(f\"The letter {guess}, is not there, One Life Fasak!\")\n",
        "        print(stages[lives])\n",
        "\n",
        "\n",
        "    print(\"\".join(display))\n",
        "\n",
        "    if count == word_length:\n",
        "        lives = 0\n",
        "        print(\"Sooper ra Bittu!\")\n",
        "        print(\"****************************YOU WIN****************************\")\n",
        "    elif lives == 0:\n",
        "        print(\"Gangaarpanam!!!\")\n",
        "        print(\"****************************YOU LOSE****************************\")\n",
        "        print(f\"The word is: {chosen_word}\")"
      ]
    }
  ]
}