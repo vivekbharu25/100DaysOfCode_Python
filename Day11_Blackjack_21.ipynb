{
  "nbformat": 4,
  "nbformat_minor": 0,
  "metadata": {
    "colab": {
      "provenance": [],
      "authorship_tag": "ABX9TyOvl968CbxSfBoejPuWEkSJ",
      "include_colab_link": true
    },
    "kernelspec": {
      "name": "python3",
      "display_name": "Python 3"
    },
    "language_info": {
      "name": "python"
    }
  },
  "cells": [
    {
      "cell_type": "markdown",
      "metadata": {
        "id": "view-in-github",
        "colab_type": "text"
      },
      "source": [
        "<a href=\"https://colab.research.google.com/github/vivekbharu25/100DaysOfCode_Python/blob/main/Day11_Blackjack_21.ipynb\" target=\"_parent\"><img src=\"https://colab.research.google.com/assets/colab-badge.svg\" alt=\"Open In Colab\"/></a>"
      ]
    },
    {
      "cell_type": "code",
      "execution_count": 1,
      "metadata": {
        "colab": {
          "base_uri": "https://localhost:8080/"
        },
        "id": "y39GohAdVudh",
        "outputId": "564277b5-5ce7-42ca-dc1b-d2cee99c09bb"
      },
      "outputs": [
        {
          "name": "stdout",
          "output_type": "stream",
          "text": [
            "Do you want to play a game of Blackjack(21) ?\n",
            " If yes type 'y', otherwise 'n' or anything!y\n",
            "Your Cards are :[10, 1], The total is 11.\n",
            "The computer card is 7.\n",
            "Type 'y' to add a card or 'n' to passy\n",
            "Your Cards are :[10, 1, 10], The total is 21.\n",
            "Computer picked a card!\n",
            "Computer picked a card!\n",
            "Computer picked a card!\n",
            "Your Cards are :[10, 1, 10], The total is 21.\n",
            "Computer Cards are :[7, 1, 6, 5, 10], The total is 29.\n",
            "You Won!!!\n",
            "Do you want to play a game of Blackjack(21) ?\n",
            " If yes type 'y', otherwise 'n' or anything!y\n",
            "Your Cards are :[9, 1], The total is 10.\n",
            "The computer card is 1.\n",
            "Type 'y' to add a card or 'n' to passy\n",
            "Your Cards are :[9, 1, 10], The total is 20.\n",
            "Type 'y' to add a card or 'n' to passn\n",
            "Computer picked a card!\n",
            "Computer picked a card!\n",
            "Your Cards are :[9, 1, 10], The total is 20.\n",
            "Computer Cards are :[5, 1, 5, 10], The total is 21.\n",
            "Computer Won!!!\n",
            "Do you want to play a game of Blackjack(21) ?\n",
            " If yes type 'y', otherwise 'n' or anything!n\n"
          ]
        }
      ],
      "source": [
        "import random\n",
        "\n",
        "cards = [11, 2, 3, 4, 5, 6, 7, 8, 9, 10, 10, 10, 10]\n",
        "\n",
        "def rand_card(ar):\n",
        "    return ar[random.randint(0,12)]\n",
        "\n",
        "def sum_check(ar):\n",
        "    if sum(ar)>=22:\n",
        "        if ar[0] == 11:\n",
        "            ar[0]=1\n",
        "    else:\n",
        "        ar[1]=1\n",
        "    return ar\n",
        "\n",
        "def comp_game(ar):\n",
        "    check = True\n",
        "    while check:\n",
        "        if sum(ar) <= 17:\n",
        "            ar.append(rand_card(cards))\n",
        "            check = True\n",
        "            print(\"Computer picked a card!\")\n",
        "        elif 18 <= sum(ar) < 21:\n",
        "            a = random.randint(0,1)\n",
        "            if a == 0:\n",
        "                ar.append(rand_card(cards))\n",
        "                check = True\n",
        "                print(\"Computer picked a card!\")\n",
        "            else:\n",
        "                check = False\n",
        "        else:\n",
        "            check = False\n",
        "    return ar\n",
        "\n",
        "def win_check(ar,br):\n",
        "    br = comp_game(br)\n",
        "    br_dis = abs(21 - sum(br))\n",
        "    ar_dis = abs(21 - sum(ar))\n",
        "    if br_dis == ar_dis:\n",
        "        print(f\"Your Cards are :{ar}, The total is {sum(ar)}.\")\n",
        "        print(f\"Computer Cards are :{br}, The total is {sum(br)}.\")\n",
        "        print(\"It's a Draw!\")\n",
        "    elif br_dis > ar_dis:\n",
        "        print(f\"Your Cards are :{ar}, The total is {sum(ar)}.\")\n",
        "        print(f\"Computer Cards are :{br}, The total is {sum(br)}.\")\n",
        "        print(\"You Won!!!\")\n",
        "    else:\n",
        "        print(f\"Your Cards are :{ar}, The total is {sum(ar)}.\")\n",
        "        print(f\"Computer Cards are :{br}, The total is {sum(br)}.\")\n",
        "        print(\"Computer Won!!!\")\n",
        "\n",
        "check2 = True\n",
        "while check2:\n",
        "    start_game = input(\"Do you want to play a game of Blackjack(21) ?\\n If yes type 'y', otherwise 'n' or anything!\")\n",
        "    if start_game == 'y':\n",
        "        computer = [rand_card(cards),rand_card(cards)]\n",
        "        player = [rand_card(cards),rand_card(cards)]\n",
        "\n",
        "        computer = sum_check(computer)\n",
        "        player = sum_check(player)\n",
        "\n",
        "        print(f\"Your Cards are :{player}, The total is {sum(player)}.\")\n",
        "        comp_card = computer[random.randint(0,1)]\n",
        "        print(f\"The computer card is {comp_card}.\")\n",
        "\n",
        "        check1 = True\n",
        "\n",
        "        while check1:\n",
        "            hit_stand = input(\"Type 'y' to add a card or 'n' to pass\").lower()\n",
        "            if hit_stand == 'y':\n",
        "                player.append(rand_card(cards))\n",
        "                print(f\"Your Cards are :{player}, The total is {sum(player)}.\")\n",
        "                if sum(player)>21:\n",
        "                    print(f\"Your total is {sum(player)}, it greater than 21, COMPUTER WON!!!\")\n",
        "                    computer = comp_card\n",
        "                    print(f\"The Computer Card is : {computer}\")\n",
        "                    check1 = False\n",
        "                elif sum(player)<21:\n",
        "                    check1 = True\n",
        "                else:\n",
        "                    win_check(player,computer)\n",
        "                    check1 = False\n",
        "            else:\n",
        "                win_check(player,computer)\n",
        "                check1 = False\n",
        "        check2 = True\n",
        "    else:\n",
        "        check2 = False"
      ]
    }
  ]
}