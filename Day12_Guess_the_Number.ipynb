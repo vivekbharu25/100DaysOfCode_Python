{
  "nbformat": 4,
  "nbformat_minor": 0,
  "metadata": {
    "colab": {
      "provenance": [],
      "authorship_tag": "ABX9TyNtkI8RpUBQeiwXae5pVg3a",
      "include_colab_link": true
    },
    "kernelspec": {
      "name": "python3",
      "display_name": "Python 3"
    },
    "language_info": {
      "name": "python"
    }
  },
  "cells": [
    {
      "cell_type": "markdown",
      "metadata": {
        "id": "view-in-github",
        "colab_type": "text"
      },
      "source": [
        "<a href=\"https://colab.research.google.com/github/vivekbharu25/100DaysOfCode_Python/blob/main/Day12_Guess_the_Number.ipynb\" target=\"_parent\"><img src=\"https://colab.research.google.com/assets/colab-badge.svg\" alt=\"Open In Colab\"/></a>"
      ]
    },
    {
      "cell_type": "code",
      "execution_count": null,
      "metadata": {
        "colab": {
          "base_uri": "https://localhost:8080/"
        },
        "id": "1T6SYFExee6x",
        "outputId": "7ff2e66f-cfe1-4a7a-f4f8-a577923e463b"
      },
      "outputs": [
        {
          "output_type": "stream",
          "name": "stdout",
          "text": [
            "If you want to play 'Guess the Number'. Type 'y' to play and 'n' or anything else otherwise.y\n",
            "Which level do you want to play?\n",
            " Type 'e' for easy, 'm' for medium and 'h' for hard: e\n",
            "You have 10 lives left.\n",
            "Guess a Number50\n",
            "Too Low!\n",
            "\n",
            "You have 9 lives left.\n",
            "Guess a Number75\n",
            "Too Low!\n",
            "\n",
            "You have 8 lives left.\n",
            "Guess a Number90\n",
            "Too Low!\n",
            "\n",
            "You have 7 lives left.\n",
            "Guess a Number95\n",
            "Too Low!\n",
            "\n",
            "You have 6 lives left.\n",
            "Guess a Number99\n",
            "Too Low!\n",
            "\n",
            "You have 5 lives left.\n",
            "Guess a Number100\n",
            "You Won! Enjoy Pandago!!\n"
          ]
        }
      ],
      "source": [
        "import random\n",
        "\n",
        "levels = {\n",
        "    \"e\": 10, \"m\": 7, \"h\":5\n",
        "}\n",
        "lives = 0\n",
        "play = True\n",
        "\n",
        "def gameplay(a,c,d):\n",
        "    while c >=0 or d:\n",
        "      if c == 0:\n",
        "        print(\"You Lose\")\n",
        "        d = False\n",
        "      else:\n",
        "        print(f\"You have {c} lives left.\")\n",
        "        b = input(\"Guess a Number\")\n",
        "        if int(b) > a:\n",
        "            c -= 1\n",
        "            print(f\"Too High!\\n\")\n",
        "            d = True\n",
        "        elif int(b) < a:\n",
        "            c-= 1\n",
        "            print(f\"Too Low!\\n\")\n",
        "            d = True\n",
        "        elif int(b) == a:\n",
        "            c = -1\n",
        "            print(f\"You Won! Enjoy Pandago!!\")\n",
        "            d = False\n",
        "        else:\n",
        "            c -= 1\n",
        "            print(f\"Give proper Input.\")\n",
        "            d = True\n",
        "\n",
        "while play:\n",
        "    play_input = input(\"If you want to play 'Guess the Number'. Type 'y' to play and 'n' or anything else otherwise.\").lower()\n",
        "    if play_input == \"y\":\n",
        "        play = True\n",
        "        while lives == 0:\n",
        "            level_input = input(\"Which level do you want to play?\\n Type 'e' for easy, 'm' for medium and 'h' for hard: \").lower()\n",
        "            if level_input not in levels:\n",
        "                print(\"Give Proper input level\")\n",
        "                lives = 0\n",
        "            else:\n",
        "                lives = levels[level_input]\n",
        "        x = random.randint(1,100)\n",
        "        game = True\n",
        "        gameplay(x,lives, game)\n",
        "    else:\n",
        "        play = False"
      ]
    }
  ]
}