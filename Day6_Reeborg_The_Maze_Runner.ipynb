{
  "nbformat": 4,
  "nbformat_minor": 0,
  "metadata": {
    "colab": {
      "provenance": [],
      "authorship_tag": "ABX9TyPEsyeq9u5N3fpcMrLnnhaY",
      "include_colab_link": true
    },
    "kernelspec": {
      "name": "python3",
      "display_name": "Python 3"
    },
    "language_info": {
      "name": "python"
    }
  },
  "cells": [
    {
      "cell_type": "markdown",
      "metadata": {
        "id": "view-in-github",
        "colab_type": "text"
      },
      "source": [
        "<a href=\"https://colab.research.google.com/github/vivekbharu25/100DaysOfCode_Python/blob/main/Day6_Reeborg_The_Maze_Runner.ipynb\" target=\"_parent\"><img src=\"https://colab.research.google.com/assets/colab-badge.svg\" alt=\"Open In Colab\"/></a>"
      ]
    },
    {
      "cell_type": "code",
      "execution_count": null,
      "metadata": {
        "id": "xys9Vew-zQgU"
      },
      "outputs": [],
      "source": [
        "def turn_right():\n",
        "    turn_left()\n",
        "    turn_left()\n",
        "    turn_left()\n",
        "\n",
        "while front_is_clear():\n",
        "    move()\n",
        "\n",
        "while not at_goal():\n",
        "    if right_is_clear() and front_is_clear():\n",
        "        turn_right()\n",
        "        move()\n",
        "    elif front_is_clear():\n",
        "        move()\n",
        "    elif right_is_clear():\n",
        "        turn_right()\n",
        "        move()\n",
        "    else:\n",
        "        turn_left()"
      ]
    }
  ]
}